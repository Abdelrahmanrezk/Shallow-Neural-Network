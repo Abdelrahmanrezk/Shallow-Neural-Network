{
 "cells": [
  {
   "cell_type": "markdown",
   "metadata": {},
   "source": [
    "# 3-Programming Exercise 3:Neural Networks Coursera\n",
    "\n",
    "Let's take a look at a scenario where we can recognize different numbers [0-9].\n",
    "\n",
    "**The first file manual_Neural_Networks_ex3 has some of explanation handling**\n",
    "\n",
    "**The data set are about 5000 image**"
   ]
  },
  {
   "cell_type": "markdown",
   "metadata": {},
   "source": [
    "## Importing libraries"
   ]
  },
  {
   "cell_type": "code",
   "execution_count": 1,
   "metadata": {},
   "outputs": [
    {
     "name": "stderr",
     "output_type": "stream",
     "text": [
      "Using TensorFlow backend.\n"
     ]
    }
   ],
   "source": [
    "import numpy as np\n",
    "import pandas as pd\n",
    "import tensorflow as tf\n",
    "import keras\n",
    "import os\n",
    "import matplotlib.pyplot as plt\n",
    "import matplotlib.image as mpimg\n",
    "import cv2\n",
    "from scipy.io import loadmat # because  the data is in mat extension"
   ]
  },
  {
   "cell_type": "code",
   "execution_count": 2,
   "metadata": {},
   "outputs": [
    {
     "name": "stdout",
     "output_type": "stream",
     "text": [
      "The columns of the file are\n",
      " dict_keys(['__header__', '__version__', '__globals__', 'X', 'y'])\n"
     ]
    }
   ],
   "source": [
    "df_file = loadmat('csv_files/ex3data1.mat')\n",
    "print(\"The columns of the file are\\n\", df_file.keys())"
   ]
  },
  {
   "cell_type": "code",
   "execution_count": 3,
   "metadata": {},
   "outputs": [
    {
     "name": "stdout",
     "output_type": "stream",
     "text": [
      "The shape of our features:  (5000, 400)\n",
      "The shape of our labels:  (5000,)\n"
     ]
    }
   ],
   "source": [
    "X = df_file['X']\n",
    "y = df_file['y'].ravel()\n",
    "m, n = X.shape\n",
    "print(\"The shape of our features: \", X.shape)\n",
    "print(\"The shape of our labels: \", y.shape)"
   ]
  },
  {
   "cell_type": "markdown",
   "metadata": {},
   "source": [
    "### visualize an image of your data with its features and label"
   ]
  },
  {
   "cell_type": "code",
   "execution_count": 4,
   "metadata": {},
   "outputs": [
    {
     "name": "stdout",
     "output_type": "stream",
     "text": [
      "The features of the image 5 are\n",
      " [ 0.00000000e+00  0.00000000e+00  0.00000000e+00  0.00000000e+00\n",
      "  0.00000000e+00  0.00000000e+00  0.00000000e+00  0.00000000e+00\n",
      "  0.00000000e+00  0.00000000e+00  0.00000000e+00  0.00000000e+00\n",
      "  0.00000000e+00  0.00000000e+00  0.00000000e+00  0.00000000e+00\n",
      "  0.00000000e+00  0.00000000e+00  0.00000000e+00  0.00000000e+00\n",
      "  0.00000000e+00  0.00000000e+00  0.00000000e+00  0.00000000e+00\n",
      "  0.00000000e+00  0.00000000e+00  0.00000000e+00  0.00000000e+00\n",
      "  0.00000000e+00  0.00000000e+00  0.00000000e+00  0.00000000e+00\n",
      "  0.00000000e+00  0.00000000e+00  0.00000000e+00  0.00000000e+00\n",
      "  0.00000000e+00  0.00000000e+00  0.00000000e+00  0.00000000e+00\n",
      "  0.00000000e+00  0.00000000e+00  0.00000000e+00  0.00000000e+00\n",
      "  0.00000000e+00  0.00000000e+00  0.00000000e+00  0.00000000e+00\n",
      "  0.00000000e+00  0.00000000e+00  0.00000000e+00  0.00000000e+00\n",
      "  0.00000000e+00  0.00000000e+00  0.00000000e+00  0.00000000e+00\n",
      "  0.00000000e+00  0.00000000e+00  0.00000000e+00  0.00000000e+00\n",
      "  0.00000000e+00  0.00000000e+00  0.00000000e+00  0.00000000e+00\n",
      "  0.00000000e+00  1.78717320e-05 -1.19995915e-04 -6.98758713e-04\n",
      " -7.75965074e-03 -2.77874796e-02 -3.74992341e-02 -3.71175449e-02\n",
      " -3.72432331e-02 -3.52470895e-02 -1.28583538e-02  4.79881536e-04\n",
      "  5.02450980e-05  0.00000000e+00  0.00000000e+00  0.00000000e+00\n",
      "  0.00000000e+00  0.00000000e+00  0.00000000e+00  0.00000000e+00\n",
      "  3.14338235e-04 -1.17415577e-03 -2.24728690e-02 -3.20393074e-02\n",
      "  7.47227328e-02  4.31012544e-01  6.07734937e-01  6.00787241e-01\n",
      "  6.03221604e-01  5.66225388e-01  1.68896514e-01 -3.00833674e-02\n",
      "  3.53349673e-05  5.13635808e-05  0.00000000e+00  0.00000000e+00\n",
      "  0.00000000e+00  0.00000000e+00  0.00000000e+00  2.45098039e-04\n",
      " -4.78084150e-03 -1.89058755e-02  1.72836040e-01  4.06654573e-01\n",
      "  8.24665799e-01  1.00734108e+00  1.03292247e+00  1.04440724e+00\n",
      "  1.03464414e+00  1.02917790e+00  8.01140897e-01  1.51504374e-01\n",
      " -2.69049564e-02  5.98528393e-04  7.65931373e-05  0.00000000e+00\n",
      "  0.00000000e+00  0.00000000e+00  2.28282581e-04 -4.10522195e-03\n",
      "  3.59909450e-03  2.80295360e-01  8.70165731e-01  1.04285858e+00\n",
      "  1.01214835e+00  9.83427407e-01  8.55948717e-01  7.16846167e-01\n",
      "  8.07043656e-01  9.67742136e-01  1.03209094e+00  7.84775378e-01\n",
      "  1.63999847e-01 -1.37889813e-02 -6.38276144e-04  0.00000000e+00\n",
      "  0.00000000e+00  0.00000000e+00 -1.09347831e-03 -1.80794709e-02\n",
      "  4.51630505e-01  9.53912702e-01  1.01197016e+00  9.93849557e-01\n",
      "  9.85959959e-01  7.30606970e-01  1.03193629e-01  3.97518106e-02\n",
      "  6.25331383e-02  4.44309989e-01  9.57748495e-01  1.04459641e+00\n",
      "  5.59517057e-01 -7.74674261e-03 -4.98841602e-03  0.00000000e+00\n",
      "  0.00000000e+00  0.00000000e+00 -1.42546166e-02  9.20438113e-02\n",
      "  7.92186343e-01  1.02635189e+00  9.91875000e-01  1.03409003e+00\n",
      "  7.21696912e-01  7.62330304e-02 -2.20282884e-02 -1.06267021e-02\n",
      " -1.75937249e-02 -1.34731584e-02  5.46676590e-01  1.03569931e+00\n",
      "  8.37688913e-01  1.18031589e-01 -1.43758510e-02  0.00000000e+00\n",
      "  0.00000000e+00  0.00000000e+00 -3.89299254e-02  3.23700980e-01\n",
      "  9.78107996e-01  9.99896378e-01  1.00628877e+00  9.62809880e-01\n",
      "  3.48289318e-01 -3.50931713e-02 -5.58483115e-04  3.57434641e-05\n",
      "  3.66882720e-04 -1.32526552e-02  1.11752111e-01  7.83635791e-01\n",
      "  1.01929143e+00  3.86637877e-01 -2.03713916e-02  0.00000000e+00\n",
      "  0.00000000e+00  0.00000000e+00 -4.04895846e-02  3.39147382e-01\n",
      "  9.75111571e-01  1.00363831e+00  9.63277437e-01  4.05844017e-01\n",
      " -1.84270153e-02 -3.58898420e-04  3.18627451e-05  0.00000000e+00\n",
      "  0.00000000e+00 -3.87561275e-04 -3.47697610e-02  3.74049803e-01\n",
      "  1.03753312e+00  7.28783087e-01 -2.07858456e-02  0.00000000e+00\n",
      "  0.00000000e+00  0.00000000e+00 -3.67127308e-03 -3.89103350e-03\n",
      "  6.50896208e-01  1.03246220e+00  8.54674037e-01  8.63457972e-02\n",
      " -1.97322985e-02  3.73468137e-04  3.67647059e-06  0.00000000e+00\n",
      "  0.00000000e+00  1.15400327e-04 -3.66789386e-02  2.47431968e-01\n",
      "  1.03302759e+00  8.68603519e-01 -2.07084014e-02  0.00000000e+00\n",
      "  0.00000000e+00  0.00000000e+00  6.15081549e-04 -4.35095899e-02\n",
      "  6.07536145e-01  1.01940679e+00  9.96212870e-01  4.08721571e-01\n",
      " -8.23541301e-03 -1.03822714e-03  0.00000000e+00  0.00000000e+00\n",
      "  0.00000000e+00  5.18527577e-04 -4.47056785e-02  2.59370066e-01\n",
      "  1.03283242e+00  8.39363507e-01 -2.07188523e-02  0.00000000e+00\n",
      "  0.00000000e+00  0.00000000e+00  0.00000000e+00 -2.91539522e-02\n",
      "  4.55475490e-01  1.01286688e+00  1.01252100e+00  9.00246032e-01\n",
      "  1.52150174e-01 -5.07222052e-02 -1.56537480e-02 -2.34369894e-03\n",
      " -3.70801231e-03 -2.73417075e-02  5.89453636e-02  6.57093052e-01\n",
      "  1.03577638e+00  5.27176175e-01 -2.07800586e-02  0.00000000e+00\n",
      "  0.00000000e+00  0.00000000e+00  0.00000000e+00 -8.57158905e-03\n",
      "  9.16958401e-02  7.85779735e-01  1.02846870e+00  1.00779898e+00\n",
      "  6.63022740e-01  5.05559845e-01  2.15575504e-01 -1.28941653e-02\n",
      "  7.76335725e-03  2.59128251e-01  7.19692538e-01  1.02157142e+00\n",
      "  6.78616251e-01  9.69014376e-02 -1.07616762e-02  0.00000000e+00\n",
      "  0.00000000e+00  0.00000000e+00  0.00000000e+00 -5.41258170e-06\n",
      " -1.46146174e-02  1.06526025e-01  5.59348907e-01  7.50172401e-01\n",
      "  9.32901637e-01  1.04982613e+00  8.95719431e-01  6.24396633e-01\n",
      "  7.04029561e-01  1.00322978e+00  9.91463678e-01  5.59543284e-01\n",
      " -4.53405842e-03 -1.23367372e-02  1.30718954e-04  0.00000000e+00\n",
      "  0.00000000e+00  0.00000000e+00  0.00000000e+00  5.02450980e-05\n",
      "  1.72589869e-04 -1.05664828e-02 -2.49931747e-02 -1.69481133e-02\n",
      "  2.98888412e-01  7.73731158e-01  9.26706138e-01  9.36280978e-01\n",
      "  9.33240050e-01  8.91720946e-01  4.31707635e-01 -1.99451083e-02\n",
      " -5.38785063e-03 -1.69173699e-04  4.90196078e-05  0.00000000e+00\n",
      "  0.00000000e+00  0.00000000e+00  0.00000000e+00  0.00000000e+00\n",
      "  0.00000000e+00  1.22294240e-04 -1.01096572e-03 -5.66102833e-03\n",
      " -1.74667767e-02  5.88544597e-02  1.10567038e-01  1.08544546e-01\n",
      "  1.09852263e-01  9.80205658e-02  4.93931148e-03 -6.32327463e-03\n",
      "  1.39160654e-04  9.76319920e-06  0.00000000e+00  0.00000000e+00\n",
      "  0.00000000e+00  0.00000000e+00  0.00000000e+00  0.00000000e+00\n",
      "  0.00000000e+00  0.00000000e+00  0.00000000e+00  2.28282581e-04\n",
      " -1.51790577e-03 -1.18138957e-02 -1.72657952e-02 -1.70498026e-02\n",
      " -1.71687525e-02 -1.59923066e-02 -4.49942130e-03  3.95390795e-04\n",
      "  8.68055556e-06  0.00000000e+00  0.00000000e+00  0.00000000e+00\n",
      "  0.00000000e+00  0.00000000e+00  0.00000000e+00  0.00000000e+00\n",
      "  0.00000000e+00  0.00000000e+00  0.00000000e+00  0.00000000e+00\n",
      "  0.00000000e+00  0.00000000e+00  0.00000000e+00  0.00000000e+00\n",
      "  0.00000000e+00  0.00000000e+00  0.00000000e+00  0.00000000e+00\n",
      "  0.00000000e+00  0.00000000e+00  0.00000000e+00  0.00000000e+00]\n",
      "The label of the image 5 are:  10\n"
     ]
    },
    {
     "data": {
      "text/plain": [
       "<matplotlib.image.AxesImage at 0x7fe08fbeb310>"
      ]
     },
     "execution_count": 4,
     "metadata": {},
     "output_type": "execute_result"
    },
    {
     "data": {
      "image/png": "[encoded data removed]",
      "text/plain": [
       "<Figure size 432x288 with 1 Axes>"
      ]
     },
     "metadata": {
      "needs_background": "light"
     },
     "output_type": "display_data"
    }
   ],
   "source": [
    "print(\"The features of the image 5 are\\n\",X[5]) # I will use it letter for tessing\n",
    "print(\"The label of the image 5 are: \",y[5])\n",
    "test = X[5]\n",
    "test = np.reshape(test, (20,20))\n",
    "plt.imshow(test)"
   ]
  },
  {
   "cell_type": "code",
   "execution_count": 5,
   "metadata": {},
   "outputs": [],
   "source": [
    "class myCallback(tf.keras.callbacks.Callback):\n",
    "    '''\n",
    "    it's useful to use call back function that terminate your algorithm when its reach the accuracy you need.\n",
    "    it's save a lot of time.\n",
    "    '''\n",
    "    def on_epoch_end(self, epoch, logs={}):\n",
    "        if(logs.get('accuracy') > 0.97):\n",
    "            print(\"\\nReached 97% accuracy so cancelling training!\")\n",
    "            self.model.stop_training = True\n"
   ]
  },
  {
   "cell_type": "code",
   "execution_count": 6,
   "metadata": {},
   "outputs": [],
   "source": [
    "def NNmodel(X,Y, epochs):\n",
    "    '''\n",
    "    A Neural Network that contain just 4 layers.\n",
    "    input layer instead of each image as 20*20 this will Flatten() to be 400.\n",
    "    first hidden layer with 512 neurons and use relu as activation function.\n",
    "    second hidden layer with 256 neurons and use relu as activation function.\n",
    "    output layer with 10 predicted values in our data.\n",
    "    '''\n",
    "\n",
    "    callbacks = myCallback() # instance from the class\n",
    "    model = tf.keras.Sequential() # create sequential model\n",
    "    model.add(tf.keras.layers.Flatten()) # input layer\n",
    "    model.add(tf.keras.layers.Dense(512, activation=tf.nn.relu)) # first hidden layer\n",
    "    model.add(tf.keras.layers.Dense(512, activation=tf.nn.relu)) # second hidden layer\n",
    "    model.add(tf.keras.layers.Dense(10, activation=tf.nn.softmax)) # output layer\n",
    "\n",
    "# compile the model with Adam optimizer Algorithm\n",
    "    model.compile(optimizer=tf.optimizers.Adam(), loss='sparse_categorical_crossentropy', \n",
    "                  metrics=['accuracy'])\n",
    "    model.fit(X,Y, epochs=epochs, callbacks=[callbacks])\n",
    "    return model"
   ]
  },
  {
   "cell_type": "code",
   "execution_count": 7,
   "metadata": {},
   "outputs": [],
   "source": [
    "y = np.where(y==10, 0, y) # handle the issue of data as 0 number is denoted as 10 so fix this to pass to model"
   ]
  },
  {
   "cell_type": "code",
   "execution_count": 8,
   "metadata": {},
   "outputs": [
    {
     "name": "stdout",
     "output_type": "stream",
     "text": [
      "Train on 5000 samples\n",
      "Epoch 1/15\n",
      "5000/5000 [==============================] - 1s 212us/sample - loss: 0.5001 - accuracy: 0.8536\n",
      "Epoch 2/15\n",
      "5000/5000 [==============================] - 1s 154us/sample - loss: 0.1955 - accuracy: 0.9446\n",
      "Epoch 3/15\n",
      "5000/5000 [==============================] - 1s 142us/sample - loss: 0.1238 - accuracy: 0.9644\n",
      "Epoch 4/15\n",
      "4704/5000 [===========================>..] - ETA: 0s - loss: 0.0705 - accuracy: 0.9796\n",
      "Reached 97% accuracy so cancelling training!\n",
      "5000/5000 [==============================] - 1s 145us/sample - loss: 0.0710 - accuracy: 0.9794\n"
     ]
    }
   ],
   "source": [
    "model = NNmodel(X, y, 15)"
   ]
  },
  {
   "cell_type": "code",
   "execution_count": 9,
   "metadata": {},
   "outputs": [
    {
     "name": "stdout",
     "output_type": "stream",
     "text": [
      "5000/5000 [==============================] - 0s 73us/sample - loss: 0.0717 - accuracy: 0.9798\n"
     ]
    },
    {
     "data": {
      "text/plain": [
       "[0.07169490720592439, 0.9798]"
      ]
     },
     "execution_count": 9,
     "metadata": {},
     "output_type": "execute_result"
    }
   ],
   "source": [
    "## Test the model with unseen data\n",
    "model.evaluate(X, y)"
   ]
  },
  {
   "cell_type": "code",
   "execution_count": 10,
   "metadata": {},
   "outputs": [],
   "source": [
    "predict = model.predict(X)"
   ]
  },
  {
   "cell_type": "code",
   "execution_count": 11,
   "metadata": {},
   "outputs": [
    {
     "data": {
      "text/plain": [
       "array([5.0724124e-05, 1.5215272e-03, 3.3676231e-06, 1.2332259e-04,\n",
       "       2.7678921e-04, 2.0397638e-03, 2.9207399e-06, 2.7284968e-05,\n",
       "       9.9518102e-01, 7.7323191e-04], dtype=float32)"
      ]
     },
     "execution_count": 11,
     "metadata": {},
     "output_type": "execute_result"
    }
   ],
   "source": [
    "test = predict[4000]\n",
    "test"
   ]
  },
  {
   "cell_type": "code",
   "execution_count": 12,
   "metadata": {},
   "outputs": [
    {
     "data": {
      "text/plain": [
       "8"
      ]
     },
     "execution_count": 12,
     "metadata": {},
     "output_type": "execute_result"
    }
   ],
   "source": [
    "max_index_row = np.argmax(test, axis=0) # return the index of the biggest value from these 10 values\n",
    "max_index_row"
   ]
  },
  {
   "cell_type": "code",
   "execution_count": 13,
   "metadata": {},
   "outputs": [
    {
     "data": {
      "text/plain": [
       "<matplotlib.image.AxesImage at 0x7fe0843f0a90>"
      ]
     },
     "execution_count": 13,
     "metadata": {},
     "output_type": "execute_result"
    },
    {
     "data": {
      "image/png": "[encoded data removed]",
      "text/plain": [
       "<Figure size 432x288 with 1 Axes>"
      ]
     },
     "metadata": {
      "needs_background": "light"
     },
     "output_type": "display_data"
    }
   ],
   "source": [
    "test = X[4000] # seems to 8\n",
    "test = np.reshape(test, (20,20))\n",
    "plt.imshow(test)"
   ]
  },
  {
   "cell_type": "code",
   "execution_count": null,
   "metadata": {},
   "outputs": [],
   "source": []
  }
 ],
 "metadata": {
  "kernelspec": {
   "display_name": "Python 3",
   "language": "python",
   "name": "python3"
  },
  "language_info": {
   "codemirror_mode": {
    "name": "ipython",
    "version": 3
   },
   "file_extension": ".py",
   "mimetype": "text/x-python",
   "name": "python",
   "nbconvert_exporter": "python",
   "pygments_lexer": "ipython3",
   "version": "3.7.4"
  }
 },
 "nbformat": 4,
 "nbformat_minor": 2
}
