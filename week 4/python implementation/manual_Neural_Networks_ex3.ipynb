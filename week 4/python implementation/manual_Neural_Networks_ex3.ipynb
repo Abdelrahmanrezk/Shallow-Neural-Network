{
 "cells": [
  {
   "cell_type": "markdown",
   "metadata": {},
   "source": [
    "# 3-Programming Exercise 3:Neural Networks Coursera\n",
    "\n",
    "## Manual Neural Networks with Logistic Regression"
   ]
  },
  {
   "cell_type": "markdown",
   "metadata": {},
   "source": [
    "#  Introduction \n",
    "\n",
    "**The task realted to implement one-vs-all logistic regression and neural networks to recognize hand-written digits.**\n",
    "\n",
    "### This Task is related to Coursera Machine Learning Course by Andrew NG, but implemnted in Python.\n",
    "\n",
    "**Most text used in this notebook from ex3.pdf of Coursera**\n",
    "\n",
    "**Look at ex3.pdf to get more intuition about the task**\n",
    "\n",
    "**The task will be implemented in three ways and three notebooks and it all about one-vs-all logistic regression and Neural Networks**\n",
    "\n",
    "- As manual code which pure code.\n",
    "- Using Sklearn library\n",
    "- Using Tensflow & Keras\n",
    "\n",
    "### One-vs-all logistic regression and  Neural Networks  Multi-class Classification\n",
    "\n",
    "## NOTE !!\n",
    "\n",
    "\n",
    "There is a big different between Multi-Classifcation and Multi-Variables, the first one is about your input as features of each example of your data, but second is about the output you need to predict is one from multiple object like here we need to predict one number from 10 numbers from.\n",
    "\n",
    "## Most of code is written to be clean and enhancing with functions"
   ]
  },
  {
   "cell_type": "code",
   "execution_count": 1,
   "metadata": {},
   "outputs": [],
   "source": [
    "import pandas as pd\n",
    "import numpy as np\n",
    "import matplotlib.pyplot as plt\n",
    "from scipy.io import loadmat # because  the data is in mat extension\n",
    "import scipy.optimize as opt\n"
   ]
  },
  {
   "cell_type": "code",
   "execution_count": 2,
   "metadata": {},
   "outputs": [
    {
     "name": "stdout",
     "output_type": "stream",
     "text": [
      "The columns of the file are\n",
      " dict_keys(['__header__', '__version__', '__globals__', 'X', 'y'])\n"
     ]
    }
   ],
   "source": [
    "df_file = loadmat('csv_files/ex3data1.mat')\n",
    "print(\"The columns of the file are\\n\", df_file.keys())"
   ]
  },
  {
   "cell_type": "markdown",
   "metadata": {},
   "source": [
    "### Split the data to features & Labels"
   ]
  },
  {
   "cell_type": "code",
   "execution_count": 3,
   "metadata": {},
   "outputs": [
    {
     "name": "stdout",
     "output_type": "stream",
     "text": [
      "The shape of our features:  (5000, 400)\n",
      "The shape of our labels:  (5000,)\n"
     ]
    }
   ],
   "source": [
    "X = df_file['X']\n",
    "y = df_file['y'].ravel()\n",
    "m, n = X.shape\n",
    "print(\"The shape of our features: \", X.shape)\n",
    "print(\"The shape of our labels: \", y.shape)"
   ]
  },
  {
   "cell_type": "markdown",
   "metadata": {},
   "source": [
    "## Data Notes \n",
    "As we can see there is 400 features of each image that unrolled from 20 * 20 width and height of gratscale of each image and the number of example is 5000 image * 400 features which was 20 * 20 for each image.\n",
    "\n",
    "Then the labels denote each of these images is 5000*1 for all images.\n",
    "\n",
    "Each image has 400 features and each of these feature is a pixel of floating number that describe brightness at this pixel in the image."
   ]
  },
  {
   "cell_type": "code",
   "execution_count": 4,
   "metadata": {},
   "outputs": [
    {
     "name": "stdout",
     "output_type": "stream",
     "text": [
      "One image features shape (400,)\n",
      "label of first image 10\n"
     ]
    }
   ],
   "source": [
    "print(\"One image features shape\", X[0].shape)\n",
    "print(\"label of first image\", y[0])"
   ]
  },
  {
   "cell_type": "code",
   "execution_count": 5,
   "metadata": {},
   "outputs": [],
   "source": [
    "def init_2d_graphs(*colors):\n",
    "    '''\n",
    "        Just graph initialize in good way\n",
    "    '''\n",
    "    plt.style.use(colors) # color of your 2d graph\n",
    "    plt.figure(figsize=(10,6)) # set the figure size\n",
    "    return True"
   ]
  },
  {
   "cell_type": "markdown",
   "metadata": {},
   "source": [
    "### Visualize some images from our dataset\n",
    "\n",
    "**We need to unrolled 400 features to be 20 * 20 dimension for visualization these image**"
   ]
  },
  {
   "cell_type": "code",
   "execution_count": 6,
   "metadata": {},
   "outputs": [
    {
     "name": "stdout",
     "output_type": "stream",
     "text": [
      "Now our 10 images in shape: (21, 20, 20)\n"
     ]
    }
   ],
   "source": [
    "# Take first 10 image and unrolled\n",
    "X_10_images = np.random.permutation(X)[:21]\n",
    "X_10_images = np.reshape(X_10_images, (-1, 20, 20))\n",
    "print(\"Now our 10 images in shape:\", X_10_images.shape)"
   ]
  },
  {
   "cell_type": "code",
   "execution_count": 7,
   "metadata": {},
   "outputs": [
    {
     "data": {
      "text/plain": [
       "<Figure size 720x432 with 0 Axes>"
      ]
     },
     "metadata": {},
     "output_type": "display_data"
    },
    {
     "data": {
      "image/png": "[encoded data removed]",
      "text/plain": [
       "<Figure size 720x576 with 1 Axes>"
      ]
     },
     "metadata": {},
     "output_type": "display_data"
    }
   ],
   "source": [
    "init_2d_graphs('dark_background' )\n",
    "fig=plt.figure(figsize=(10, 8))\n",
    "sample = np.random.randint( 0, X.shape[0] + 1, 10 )\n",
    "data_plot = X[sample, : ].reshape( -1, 20 ).T # Make a 20X20 array and rotate\n",
    "img = plt.imshow(data_plot)\n",
    "plt.axis('off');"
   ]
  },
  {
   "cell_type": "code",
   "execution_count": 8,
   "metadata": {},
   "outputs": [
    {
     "data": {
      "text/plain": [
       "<Figure size 720x432 with 0 Axes>"
      ]
     },
     "metadata": {},
     "output_type": "display_data"
    },
    {
     "data": {
      "image/png": "[encoded data removed]",
      "text/plain": [
       "<Figure size 720x576 with 20 Axes>"
      ]
     },
     "metadata": {},
     "output_type": "display_data"
    }
   ],
   "source": [
    "init_2d_graphs('dark_background' )\n",
    "fig=plt.figure(figsize=(10, 8))\n",
    "columns = 5\n",
    "rows = 4\n",
    "for i in range(1, columns*rows +1):\n",
    "    fig.add_subplot(rows, columns, i) # for each time add one image to the grid\n",
    "    plt.imshow(X_10_images[i], cmap='gray') # as grayscale\n",
    "    plt.axis('off')\n",
    "plt.show()\n"
   ]
  },
  {
   "cell_type": "markdown",
   "metadata": {},
   "source": [
    "## unregularized Vectorizing Logistic Regression"
   ]
  },
  {
   "cell_type": "markdown",
   "metadata": {},
   "source": [
    "## Visualizing the sigmoid"
   ]
  },
  {
   "cell_type": "code",
   "execution_count": 9,
   "metadata": {},
   "outputs": [],
   "source": [
    "def sigmoid(z):\n",
    "    '''\n",
    "    Argument:\n",
    "        z = x*theta\n",
    "    '''\n",
    "# np.log is natural log of base 2 which is called ln\n",
    "    g_z = 1/(1+np.exp(-z))\n",
    "    return g_z"
   ]
  },
  {
   "cell_type": "code",
   "execution_count": 10,
   "metadata": {},
   "outputs": [
    {
     "data": {
      "text/plain": [
       "<matplotlib.legend.Legend at 0x7f9acbd39f10>"
      ]
     },
     "execution_count": 10,
     "metadata": {},
     "output_type": "execute_result"
    },
    {
     "data": {
      "image/png": "[encoded data removed]",
      "text/plain": [
       "<Figure size 720x432 with 1 Axes>"
      ]
     },
     "metadata": {},
     "output_type": "display_data"
    }
   ],
   "source": [
    "x = np.arange(-10, 11) #from -10 to 10, 11 because of 0 index\n",
    "g_z = sigmoid(x)\n",
    "init_2d_graphs('ggplot', 'dark_background' )\n",
    "plt.scatter(x,g_z, s=200, c='red', marker='o')\n",
    "plt.plot(x, g_z, 'red', label= 'Sigmoid Function',linewidth=3)\n",
    "plt.xlabel('The range of values')\n",
    "plt.ylabel('The sigmoid values')\n",
    "plt.title('Visualizing of sigmoid function')\n",
    "plt.legend()"
   ]
  },
  {
   "cell_type": "markdown",
   "metadata": {},
   "source": [
    "\n",
    "### Vectorizing the cost function\n",
    "it's not unusual to loop over each training example to get the result of multiplication, so we use the features of Math and Matrix to vectorize the process we deal with, and that help us a lot since now we deal with 400 feature not 3 or 4 feature so its waste of time to loop over each training example then loop over each feature, so some of these loops can be handle using Vectorization.\n",
    "\n",
    "The unvectorize version was:\n",
    "\n",
    "![alt text](images/cost_func_1.png \"cost_func_1\")\n",
    "\n",
    "we can avoid the summation using transpose of y and transpose of(1-y) and by math Multiplication its will doing this for us.\n",
    "\n",
    "## Gradient Descent\n",
    "\n",
    "**Recall that the Gradient Descent vectorized implementation of classification before regularized part is :**\n",
    "\n",
    "![alt text](images/another_vect.png \"another_vect\")\n",
    "\n",
    "then we add regularized part which:\n",
    "(lambad / m ) * thetas"
   ]
  },
  {
   "cell_type": "code",
   "execution_count": 11,
   "metadata": {},
   "outputs": [],
   "source": [
    "def regularized_cost_function(thetas,x,y, lambad):\n",
    "    '''\n",
    "    Arguments:\n",
    "        thetas the paramter we need to minimize of shape 10*401 400 of features + theta0 and 10 for different classes\n",
    "        x the features of our dataset 5000*400\n",
    "        m number of training examples \n",
    "        y is output we need to predict and its 10 different classes\n",
    "    return:\n",
    "        cost function as total squared cost of our predicted values h_x and the real values y\n",
    "    '''\n",
    "    m,n = x.shape # retrive number of training examples and features\n",
    "    \n",
    "   \n",
    "    y_hat = sigmoid(np.matmul(x,thetas.T)) # hypothesis function\n",
    "    \n",
    "    equation_part1 = np.matmul(y.T, np.log(y_hat))\n",
    "    equation_part2 = np.matmul((1-y).T, np.log(1-y_hat))\n",
    "    \n",
    "# get the cost function\n",
    "    cost_function = (-1/m) * ( equation_part1+ equation_part2) # before regularized\n",
    "    cost_function = np.sum(cost_function)\n",
    "    cost_function += ((lambad/(2*m)) * np.sum(np.power(thetas[:, 1:],2))) # after regularized\n",
    "    return cost_function"
   ]
  },
  {
   "cell_type": "code",
   "execution_count": 12,
   "metadata": {},
   "outputs": [],
   "source": [
    "def regularized_gradient_descent(thetas,x,y, lambad):\n",
    "    '''\n",
    "    Arguments:\n",
    "       thetas the paramter we need to minimize of shape 10*401\n",
    "        x the features of our dataset 5000*401\n",
    "        m number of training examples \n",
    "        y is output we need to predict\n",
    "    return:\n",
    "        new thetas value\n",
    "    '''\n",
    "    m,n = x.shape\n",
    "    y_hat = sigmoid(np.matmul(x,thetas.T))\n",
    "    grad = (1/m) * (np.matmul(x.T, (y_hat-y)))  # before regularized\n",
    "    grad = grad.T\n",
    "    grad[:, 1:] += ((lambad/m) * thetas[:, 1:])# after regularized\n",
    "    return grad\n",
    "    "
   ]
  },
  {
   "cell_type": "markdown",
   "metadata": {},
   "source": [
    "### Vectorize hint !\n",
    "here is I handle y from 5000 * 1 to be 5000 * 10 for each label that help a lot doing operations more quickly since every thing will be vectorized and no need to loop over each class."
   ]
  },
  {
   "cell_type": "code",
   "execution_count": 13,
   "metadata": {},
   "outputs": [],
   "source": [
    "def handle_output(y, num_labels):\n",
    "    '''\n",
    "    Argument:\n",
    "        y = 5000 * 1\n",
    "        num_of_labels = 10 in our case\n",
    "   return Y which 5000 * 10 as mentioned in cell above\n",
    "    '''\n",
    "    Y = np.zeros((len(y), num_labels)) # initialize A with 0\n",
    "    for i in range(num_labels):\n",
    "        #at this step the dataset denote each number from 1-9 as it \n",
    "        # but with 0 its denote as 10 so we handle this case separately\n",
    "        if i == 0:\n",
    "            c = 10 # case of 10 denoted instead of should be 0\n",
    "            Y[:, i] = np.where(y==c, 1, 0) # replace the 5000 row with 1 when its equal to i and othere with 0\n",
    "        else:\n",
    "            Y[:, i] = np.where(y==i, 1, 0)\n",
    "    return Y"
   ]
  },
  {
   "cell_type": "markdown",
   "metadata": {},
   "source": [
    "### OVA Approach\n",
    "One Vise All approach work as separte each class from others so we have 10 classes so we will start with 1 of them and ignore all of otheres second take second class and ignore others and etc to last class"
   ]
  },
  {
   "cell_type": "code",
   "execution_count": 14,
   "metadata": {},
   "outputs": [],
   "source": [
    "def one_vs_all_model(X, y, num_labels, l):\n",
    "    '''\n",
    "    Argument:\n",
    "    X the features of all images 5000*400 for all examples 5000 and 400 features of each image\n",
    "    y is our expected outppu of each example 5000*1\n",
    "    num_labels is 10 different classes from 0-9 and 0 denotes as 10 in dataset and we handle that\n",
    "    l required hyperparameter\n",
    "    '''\n",
    "    m, n = X.shape # retrive m examples and n features\n",
    "    all_theta = np.zeros((num_labels, n + 1)) # create 10*401 weights all classes and its features\n",
    "    \n",
    "    X = np.hstack((np.ones((m, 1)), X)) # add column of 1 to X which x0=1\n",
    "    Y = handle_output(y, len(np.unique(y))) # handle y instead of 5000*1 to be 5000*10 as OVA\n",
    "    \n",
    "    for i in range(500): # iterations of gradient Descent\n",
    "        grad = regularized_gradient_descent(all_theta, X, Y, l)\n",
    "        all_theta = all_theta - grad\n",
    "    return all_theta\n",
    "\n"
   ]
  },
  {
   "cell_type": "code",
   "execution_count": 15,
   "metadata": {},
   "outputs": [],
   "source": [
    "l = .9 # lambda regulation term\n",
    "all_theta = one_vs_all_model(X, y, 10, l)"
   ]
  },
  {
   "cell_type": "code",
   "execution_count": 16,
   "metadata": {},
   "outputs": [],
   "source": [
    "def predict_one_vs_all(all_theta, X):\n",
    "    '''\n",
    "    Argument:\n",
    "        all_theta our theta paramters of shape 10*401\n",
    "        X our image of shape 5000*401 and 401 which features of each image which was before 20*20 + x0\n",
    "    '''\n",
    "    m, n = X.shape # retrive the number of examples and features\n",
    "    \n",
    "    X = np.hstack((np.ones((m, 1)), X)) # add column 0\n",
    "    \n",
    "    y_hat = np.matmul(X, all_theta.T) # Hypothesis function\n",
    "    print(y_hat.shape)\n",
    "# line above return with 5000*10 matrix 5000 training example and for each of them we have 10 values\n",
    "# these 10 values denote probability of the number being 0 or 1 or 2 and so on\n",
    "# line above reduce these 5000*10 to be 5000*1 which get the maximum value from these 10 values and return it index\n",
    "    p = np.argmax(y_hat, axis=1) # return the index of maximum values\n",
    "    print(\"=\"*70)\n",
    "    print(p.shape)\n",
    "    p[p == 0] = 10 # handle case of p=0 to be 10 because we will comapre to real the dataset\n",
    "    return p"
   ]
  },
  {
   "cell_type": "code",
   "execution_count": 17,
   "metadata": {},
   "outputs": [
    {
     "name": "stdout",
     "output_type": "stream",
     "text": [
      "(5000, 10)\n",
      "======================================================================\n",
      "(5000,)\n",
      "Training Set Accuracy: 92.06\n"
     ]
    }
   ],
   "source": [
    "# return the mean values between predicted and actual values y\n",
    "pred = predict_one_vs_all(all_theta, X)\n",
    "print ('Training Set Accuracy:', np.mean(pred == y) * 100)"
   ]
  },
  {
   "cell_type": "markdown",
   "metadata": {},
   "source": [
    "## Another Approach using Scipy"
   ]
  },
  {
   "cell_type": "code",
   "execution_count": 18,
   "metadata": {},
   "outputs": [],
   "source": [
    "def regularized_gradient_model_using_scipy(thetas,x,y, lambad):\n",
    "    '''\n",
    "    Arguments:\n",
    "        thetas the paramter we need to minimize of shape 10*401 400 of features + theta0 and 10 for different classes\n",
    "        x the features of our dataset 5000*400\n",
    "        m number of training examples \n",
    "        y is output we need to predict and its 10 different classes\n",
    "    return:\n",
    "        cost function as total squared cost of our predicted values h_x and the real values y\n",
    "    '''\n",
    "    m,n = x.shape # retrive number of training examples and features\n",
    "    \n",
    "   \n",
    "    y_hat = sigmoid(np.matmul(x,thetas)) # hypothesis function\n",
    "    \n",
    "    equation_part1 = np.matmul(y.T, np.log(y_hat))\n",
    "    equation_part2 = np.matmul((1-y).T, np.log(1-y_hat))\n",
    "    \n",
    "# get the cost function\n",
    "    cost_function = (-1/m) * ( equation_part1+ equation_part2) # before regularized\n",
    "    \n",
    "#     cost_function = np.sum(cost_function, axis=1)\n",
    "    cost_function += ((lambad/(2*m)) * np.sum(np.power(thetas[1:],2))) # after regularized\n",
    "    \n",
    "    grad = (1/m) * (np.matmul(x.T, (y_hat-y)))  # before regularized\n",
    "#     grad = grad.T\n",
    "    grad[1:] += ((lambad/m) * thetas[1:])# after regularized\n",
    "    return cost_function, grad"
   ]
  },
  {
   "cell_type": "code",
   "execution_count": 19,
   "metadata": {},
   "outputs": [],
   "source": [
    "\n",
    "def one_vs_all(X, y, num_labels, l):\n",
    "    \n",
    "    m, n = X.shape\n",
    "    all_theta = np.zeros((num_labels, n + 1))\n",
    "    X = np.hstack((np.ones((m, 1)), X))\n",
    "    initial_theta = np.zeros(n + 1)\n",
    "    \n",
    "    for i in range(0, 10):\n",
    "        label = 10 if i == 0 else i\n",
    "        result = opt.minimize(fun=regularized_gradient_model_using_scipy, x0=initial_theta, args=(X, (y==label).astype(int), l),\n",
    "                              method='TNC', jac=True)\n",
    "        print ('one_vs_all(): label =', label, ', success =', result.success)\n",
    "        all_theta[i, :] = result.x\n",
    "\n",
    "    return all_theta"
   ]
  },
  {
   "cell_type": "code",
   "execution_count": 20,
   "metadata": {},
   "outputs": [
    {
     "name": "stdout",
     "output_type": "stream",
     "text": [
      "one_vs_all(): label = 10 , success = True\n",
      "one_vs_all(): label = 1 , success = True\n",
      "one_vs_all(): label = 2 , success = True\n",
      "one_vs_all(): label = 3 , success = True\n",
      "one_vs_all(): label = 4 , success = True\n",
      "one_vs_all(): label = 5 , success = True\n",
      "one_vs_all(): label = 6 , success = True\n",
      "one_vs_all(): label = 7 , success = True\n",
      "one_vs_all(): label = 8 , success = True\n",
      "one_vs_all(): label = 9 , success = True\n"
     ]
    }
   ],
   "source": [
    "l = 0.1\n",
    "all_theta = one_vs_all(X, y, 10, l)"
   ]
  },
  {
   "cell_type": "code",
   "execution_count": 21,
   "metadata": {},
   "outputs": [
    {
     "name": "stdout",
     "output_type": "stream",
     "text": [
      "(5000, 10)\n",
      "======================================================================\n",
      "(5000,)\n",
      "Training Set Accuracy: 96.46000000000001\n"
     ]
    }
   ],
   "source": [
    "# return the mean values between predicted and actual values y\n",
    "pred = predict_one_vs_all(all_theta, X)\n",
    "print ('Training Set Accuracy:', np.mean(pred == y) * 100)"
   ]
  },
  {
   "cell_type": "markdown",
   "metadata": {},
   "source": [
    "## Neural Networks Feed Forward propagation\n",
    "\n",
    "All of code Above is acutally is implemented multi-class logistic re-gression to recognize handwritten digits, but However, logistic regression cannotform more complex hypotheses as it is only a linear classifier.\n",
    "\n",
    "its transfer learning model because we have the weights are learned for us just we need to use these weights for predicting number using feed forward process.\n",
    "\n",
    "The NN is just three layer and looks like:\n",
    "\n",
    "![alt text](images/nn_archtiure.png \"nn_archtiure\")\n"
   ]
  },
  {
   "cell_type": "code",
   "execution_count": 22,
   "metadata": {},
   "outputs": [
    {
     "name": "stdout",
     "output_type": "stream",
     "text": [
      "The columns of the file are\n",
      " dict_keys(['__header__', '__version__', '__globals__', 'Theta1', 'Theta2'])\n"
     ]
    }
   ],
   "source": [
    "df_file = loadmat('csv_files/ex3weights.mat')\n",
    "print(\"The columns of the file are\\n\", df_file.keys())"
   ]
  },
  {
   "cell_type": "code",
   "execution_count": 23,
   "metadata": {},
   "outputs": [],
   "source": [
    "Theta1 = df_file['Theta1']\n",
    "Theta2 = df_file['Theta2']"
   ]
  },
  {
   "cell_type": "code",
   "execution_count": 24,
   "metadata": {},
   "outputs": [
    {
     "name": "stdout",
     "output_type": "stream",
     "text": [
      "The Weights of the first Layer which is hidden layer is:  (25, 401)\n",
      "The Weights of the second Layer which is output layer is:  (10, 26)\n"
     ]
    }
   ],
   "source": [
    "# Note that this NN actually is just 2 layer because we do not consider input layer as counted with us\n",
    "print(\"The Weights of the first Layer which is hidden layer is: \", Theta1.shape)\n",
    "print(\"The Weights of the second Layer which is output layer is: \", Theta2.shape)"
   ]
  },
  {
   "cell_type": "markdown",
   "metadata": {},
   "source": [
    "## NOTE !!\n",
    "First as we can see from above we have 5000 image each of them are 20 * 20 pixels after unrolling these to pass to the model its become 400 which called features so input layer will be 400 nerons but with bias unit we add as x0 its become 401 as you can see from **Theta1** weights second diemntion and the first hidden layer is just 25 nerons.\n",
    "\n",
    "Second Last layer which is output has **Theta2** weights with 26 as second diemntion and this actually 25 nerons from previous layer and then when adding bais unit we add theta0 to our weights and finally we have 10 in first deimntion which are the ten different output numbers we need to predict."
   ]
  },
  {
   "cell_type": "code",
   "execution_count": 25,
   "metadata": {},
   "outputs": [],
   "source": [
    "def feed_forward_model(x, Theta1, Theta2):\n",
    "\n",
    "    m,n = x.shape # number of training examples and number of features\n",
    "    \n",
    "    \n",
    "        \n",
    "    # first layer\n",
    "    act_1 = x\n",
    "    act_1 = np.hstack((np.ones((x.shape[0], 1)), act_1)) # add column of 1 to X which x0=1\n",
    "    \n",
    "    # Second layer\n",
    "    Z_2 = np.matmul(act_1, Theta1.T)\n",
    "    Act_2 = sigmoid(Z_2)\n",
    "    Act_2 = np.hstack((np.ones((Act_2.shape[0], 1)), Act_2)) # add column of 1 to X which x0=1\n",
    "    \n",
    "#    # Third layer\n",
    "    Z_3 =  np.matmul(Act_2, Theta2.T)\n",
    "    Act_3 = sigmoid(Z_3)\n",
    "    Act_3 = np.argmax(Act_3, axis=1)+1 # That because of 0 denotes as 10 in the dataset\n",
    "    return Act_3\n",
    "        "
   ]
  },
  {
   "cell_type": "code",
   "execution_count": 26,
   "metadata": {},
   "outputs": [],
   "source": [
    "y_hat = feed_forward_model(X, Theta1, Theta2)"
   ]
  },
  {
   "cell_type": "code",
   "execution_count": 27,
   "metadata": {},
   "outputs": [
    {
     "name": "stdout",
     "output_type": "stream",
     "text": [
      "Training Set Accuracy: 97.52\n"
     ]
    }
   ],
   "source": [
    "print ('Training Set Accuracy:', np.mean(y_hat == y) * 100)"
   ]
  },
  {
   "cell_type": "code",
   "execution_count": null,
   "metadata": {},
   "outputs": [],
   "source": []
  }
 ],
 "metadata": {
  "kernelspec": {
   "display_name": "Python 3",
   "language": "python",
   "name": "python3"
  },
  "language_info": {
   "codemirror_mode": {
    "name": "ipython",
    "version": 3
   },
   "file_extension": ".py",
   "mimetype": "text/x-python",
   "name": "python",
   "nbconvert_exporter": "python",
   "pygments_lexer": "ipython3",
   "version": "3.7.4"
  }
 },
 "nbformat": 4,
 "nbformat_minor": 2
}
