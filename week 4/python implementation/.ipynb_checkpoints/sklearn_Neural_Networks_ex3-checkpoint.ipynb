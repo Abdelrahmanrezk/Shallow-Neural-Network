{
 "cells": [
  {
   "cell_type": "markdown",
   "metadata": {},
   "source": [
    "# 3-Programming Exercise 3:Neural Networks Coursera\n",
    "\n",
    "### The same task but with sklearn \n",
    "\n",
    "**The first file manual_Neural_Networks_ex3 has some of explanation handling**"
   ]
  },
  {
   "cell_type": "markdown",
   "metadata": {},
   "source": [
    "##  Importing libraries"
   ]
  },
  {
   "cell_type": "code",
   "execution_count": 1,
   "metadata": {},
   "outputs": [],
   "source": [
    "import pandas as pd\n",
    "import numpy as np\n",
    "import matplotlib.pyplot as plt\n",
    "from sklearn.neural_network import MLPClassifier\n",
    "from sklearn.metrics import f1_score\n",
    "from scipy.io import loadmat # because  the data is in mat extension"
   ]
  },
  {
   "cell_type": "code",
   "execution_count": 2,
   "metadata": {},
   "outputs": [
    {
     "name": "stdout",
     "output_type": "stream",
     "text": [
      "The columns of the file are\n",
      " dict_keys(['__header__', '__version__', '__globals__', 'X', 'y'])\n"
     ]
    }
   ],
   "source": [
    "df_file = loadmat('csv_files/ex3data1.mat')\n",
    "print(\"The columns of the file are\\n\", df_file.keys())"
   ]
  },
  {
   "cell_type": "code",
   "execution_count": 3,
   "metadata": {},
   "outputs": [
    {
     "name": "stdout",
     "output_type": "stream",
     "text": [
      "The shape of our features:  (5000, 400)\n",
      "The shape of our labels:  (5000,)\n"
     ]
    }
   ],
   "source": [
    "X = df_file['X']\n",
    "y = df_file['y'].ravel()\n",
    "m, n = X.shape\n",
    "print(\"The shape of our features: \", X.shape)\n",
    "print(\"The shape of our labels: \", y.shape)"
   ]
  },
  {
   "cell_type": "markdown",
   "metadata": {},
   "source": [
    "### visualize an image of your data with its features and label"
   ]
  },
  {
   "cell_type": "code",
   "execution_count": 4,
   "metadata": {},
   "outputs": [
    {
     "name": "stdout",
     "output_type": "stream",
     "text": [
      "The features of the image 5 are\n",
      " [ 0.00000000e+00  0.00000000e+00  0.00000000e+00  0.00000000e+00\n",
      "  0.00000000e+00  0.00000000e+00  0.00000000e+00  0.00000000e+00\n",
      "  0.00000000e+00  0.00000000e+00  0.00000000e+00  0.00000000e+00\n",
      "  0.00000000e+00  0.00000000e+00  0.00000000e+00  0.00000000e+00\n",
      "  0.00000000e+00  0.00000000e+00  0.00000000e+00  0.00000000e+00\n",
      "  0.00000000e+00  0.00000000e+00  0.00000000e+00  0.00000000e+00\n",
      "  0.00000000e+00  0.00000000e+00  0.00000000e+00  0.00000000e+00\n",
      "  0.00000000e+00  0.00000000e+00  0.00000000e+00  0.00000000e+00\n",
      "  0.00000000e+00  0.00000000e+00  0.00000000e+00  0.00000000e+00\n",
      "  0.00000000e+00  0.00000000e+00  0.00000000e+00  0.00000000e+00\n",
      "  0.00000000e+00  0.00000000e+00  0.00000000e+00  0.00000000e+00\n",
      "  0.00000000e+00  0.00000000e+00  0.00000000e+00  0.00000000e+00\n",
      "  0.00000000e+00  0.00000000e+00  0.00000000e+00  1.22294240e-05\n",
      "  9.11638725e-04 -8.07386572e-03 -4.05943500e-02 -3.11495659e-02\n",
      "  6.03725898e-04  1.26921590e-04  0.00000000e+00  0.00000000e+00\n",
      "  0.00000000e+00  0.00000000e+00  0.00000000e+00  0.00000000e+00\n",
      "  0.00000000e+00  0.00000000e+00  0.00000000e+00  0.00000000e+00\n",
      "  0.00000000e+00  0.00000000e+00  7.65931373e-06  3.42626634e-04\n",
      " -1.44308732e-02  4.22919730e-02  3.38157118e-01  2.57083435e-01\n",
      " -1.18960206e-02 -3.40385635e-04  0.00000000e+00  0.00000000e+00\n",
      "  0.00000000e+00  0.00000000e+00  0.00000000e+00  0.00000000e+00\n",
      "  0.00000000e+00  0.00000000e+00  0.00000000e+00  0.00000000e+00\n",
      "  0.00000000e+00  2.75735294e-05  2.59395425e-04 -1.45792484e-02\n",
      "  4.58463271e-02  6.07704078e-01  1.02460442e+00  8.10587861e-01\n",
      "  9.37525871e-02 -1.45085810e-02  0.00000000e+00  0.00000000e+00\n",
      "  0.00000000e+00  0.00000000e+00  0.00000000e+00  0.00000000e+00\n",
      "  1.14889706e-04  6.38276144e-06 -1.29740264e-02 -3.10274924e-02\n",
      " -2.74458742e-03  4.46623094e-04 -4.93336397e-03  1.60386029e-02\n",
      "  6.21526317e-01  9.39948887e-01  9.00241371e-01  9.03644301e-01\n",
      "  2.20954929e-01 -2.79776609e-02  0.00000000e+00  0.00000000e+00\n",
      "  0.00000000e+00  0.00000000e+00  0.00000000e+00  2.04248366e-05\n",
      " -8.29418573e-04 -7.69480188e-03  1.26707346e-01  3.35109402e-01\n",
      "  2.89307598e-02 -7.52927560e-03 -2.54561547e-03  4.67760587e-01\n",
      "  9.87012742e-01  4.04865264e-01  6.40576287e-01  8.22356890e-01\n",
      "  7.68395289e-02 -1.26566385e-02  0.00000000e+00  0.00000000e+00\n",
      "  0.00000000e+00  0.00000000e+00  0.00000000e+00 -3.66882720e-06\n",
      " -2.12675798e-02  1.40785027e-01  8.04689373e-01  9.36015450e-01\n",
      "  2.28433258e-01 -4.98684488e-02  2.43428876e-01  9.54796023e-01\n",
      "  6.13750398e-01  1.13475314e-01  8.05699455e-01  5.58510711e-01\n",
      " -2.81165668e-02 -5.25992357e-04  0.00000000e+00  0.00000000e+00\n",
      "  0.00000000e+00  0.00000000e+00  0.00000000e+00 -1.75255310e-03\n",
      " -1.69061649e-02  4.96894046e-01  1.03899823e+00  8.57997585e-01\n",
      "  8.03233252e-02 -2.76862234e-02  5.87486077e-01  6.76312126e-01\n",
      "  5.49304961e-05  3.62759225e-01  9.80379476e-01  2.62385366e-01\n",
      " -1.90625851e-02  9.37589173e-05  0.00000000e+00  0.00000000e+00\n",
      "  0.00000000e+00  0.00000000e+00  9.53895072e-05 -1.02715482e-02\n",
      "  1.00169867e-01  8.84964665e-01  1.03499324e+00  6.40602299e-01\n",
      " -2.86890999e-02  2.50878217e-01  9.55302900e-01  3.83472307e-01\n",
      "  9.14053816e-02  8.26736673e-01  7.10822576e-01  3.27706801e-02\n",
      " -5.06632966e-03  0.00000000e+00  0.00000000e+00  0.00000000e+00\n",
      "  0.00000000e+00  0.00000000e+00 -5.87827647e-04 -2.44542654e-02\n",
      "  4.75192691e-01  1.02729105e+00  8.12671092e-01  1.47163266e-01\n",
      " -4.02690972e-02  3.83553922e-01  9.57956665e-01  4.45041871e-01\n",
      "  7.73469878e-01  7.79249745e-01  9.10355562e-02 -1.76792109e-02\n",
      "  1.00439134e-04  0.00000000e+00  0.00000000e+00  0.00000000e+00\n",
      "  0.00000000e+00  0.00000000e+00 -3.60482655e-03 -6.53611792e-03\n",
      "  7.11635383e-01  8.34121460e-01  1.48611469e-01 -4.50084077e-02\n",
      " -4.55199483e-02  3.51678462e-01  9.93142174e-01  9.75092848e-01\n",
      "  9.42210248e-01  2.95039641e-01 -1.92351069e-02 -1.41656454e-03\n",
      "  2.54289216e-05  0.00000000e+00  0.00000000e+00  0.00000000e+00\n",
      "  0.00000000e+00  0.00000000e+00 -1.93193372e-02  1.38792871e-01\n",
      "  8.78983497e-01  7.09657508e-01  2.01626666e-01  3.42156943e-01\n",
      "  4.82868106e-01  7.46568627e-01  1.01014142e+00  1.01996683e+00\n",
      "  5.57646276e-01 -2.13335677e-02 -2.06437773e-03  2.12791977e-04\n",
      "  0.00000000e+00  0.00000000e+00  0.00000000e+00  0.00000000e+00\n",
      "  0.00000000e+00  0.00000000e+00 -1.47168888e-02  1.01338644e-01\n",
      "  7.04417518e-01  1.01884256e+00  1.04530038e+00  1.04336166e+00\n",
      "  1.05023509e+00  9.44804705e-01  6.14100456e-01  9.19474554e-01\n",
      "  7.60708372e-01  5.51501736e-02 -7.51171024e-03  8.18014706e-05\n",
      "  0.00000000e+00  0.00000000e+00  0.00000000e+00  0.00000000e+00\n",
      "  0.00000000e+00  0.00000000e+00  7.89613143e-04 -1.48627791e-02\n",
      "  1.00041309e-01  3.76057190e-01  4.41016850e-01  4.36176471e-01\n",
      "  4.47445312e-01  2.59227022e-01  1.24094499e-02  3.46988171e-01\n",
      "  9.22347523e-01  3.23214835e-01 -2.91236554e-02 -1.62377451e-05\n",
      "  0.00000000e+00  0.00000000e+00  0.00000000e+00  0.00000000e+00\n",
      "  0.00000000e+00  0.00000000e+00  5.13635808e-05  4.58129085e-04\n",
      " -1.59561206e-02 -2.19040033e-02 -1.87892157e-02 -1.89215686e-02\n",
      " -1.86813725e-02 -2.39196793e-02 -1.04383681e-02 -2.21333912e-02\n",
      "  5.98346055e-01  7.73625204e-01  9.41194683e-02 -1.63060662e-02\n",
      "  0.00000000e+00  0.00000000e+00  0.00000000e+00  0.00000000e+00\n",
      "  0.00000000e+00  0.00000000e+00  0.00000000e+00  6.12745098e-06\n",
      " -2.04248366e-05 -1.07843137e-03 -1.49816176e-03 -1.47058824e-03\n",
      " -1.53216912e-03 -4.55116422e-04  1.65441176e-04 -2.30423815e-02\n",
      "  3.02900972e-01  9.48965533e-01  1.91848397e-01 -2.76893382e-02\n",
      "  0.00000000e+00  0.00000000e+00  0.00000000e+00  0.00000000e+00\n",
      "  0.00000000e+00  0.00000000e+00  0.00000000e+00  0.00000000e+00\n",
      "  0.00000000e+00  0.00000000e+00  0.00000000e+00  0.00000000e+00\n",
      "  0.00000000e+00  0.00000000e+00 -1.02351481e-16 -1.59453005e-02\n",
      "  2.52765786e-01  5.50834166e-01  2.79531341e-02 -7.67732665e-03\n",
      "  0.00000000e+00  0.00000000e+00  0.00000000e+00  0.00000000e+00\n",
      "  0.00000000e+00  0.00000000e+00  0.00000000e+00  0.00000000e+00\n",
      "  0.00000000e+00  0.00000000e+00  0.00000000e+00  0.00000000e+00\n",
      "  0.00000000e+00  0.00000000e+00  2.54078409e-18  4.28921569e-04\n",
      " -6.10163331e-03 -1.91482843e-02 -3.79901961e-03  5.51470588e-04\n",
      "  0.00000000e+00  0.00000000e+00  0.00000000e+00  0.00000000e+00\n",
      "  0.00000000e+00  0.00000000e+00  0.00000000e+00  0.00000000e+00\n",
      "  0.00000000e+00  0.00000000e+00  0.00000000e+00  0.00000000e+00\n",
      "  0.00000000e+00  0.00000000e+00  0.00000000e+00  0.00000000e+00\n",
      "  0.00000000e+00  0.00000000e+00  0.00000000e+00  0.00000000e+00\n",
      "  0.00000000e+00  0.00000000e+00  0.00000000e+00  0.00000000e+00]\n",
      "The label of the image 5 are:  2\n"
     ]
    },
    {
     "data": {
      "text/plain": [
       "<matplotlib.image.AxesImage at 0x7f916b79f8d0>"
      ]
     },
     "execution_count": 4,
     "metadata": {},
     "output_type": "execute_result"
    },
    {
     "data": {
      "image/png": "[encoded data removed]",
      "text/plain": [
       "<Figure size 432x288 with 1 Axes>"
      ]
     },
     "metadata": {
      "needs_background": "light"
     },
     "output_type": "display_data"
    }
   ],
   "source": [
    "print(\"The features of the image 5 are\\n\",X[1000]) # I will use it letter for tessing\n",
    "print(\"The label of the image 5 are: \",y[1000])\n",
    "test = X[1000]\n",
    "test = np.reshape(test, (20,20))\n",
    "plt.imshow(test)"
   ]
  },
  {
   "cell_type": "markdown",
   "metadata": {},
   "source": [
    "## Sklearn MLPClassifier Model"
   ]
  },
  {
   "cell_type": "code",
   "execution_count": 5,
   "metadata": {},
   "outputs": [
    {
     "data": {
      "text/plain": [
       "MLPClassifier(activation='relu', alpha=0.9, batch_size='auto', beta_1=0.9,\n",
       "              beta_2=0.999, early_stopping=False, epsilon=1e-08,\n",
       "              hidden_layer_sizes=9, learning_rate='constant',\n",
       "              learning_rate_init=0.001, max_iter=200, momentum=0.9,\n",
       "              n_iter_no_change=10, nesterovs_momentum=True, power_t=0.5,\n",
       "              random_state=1, shuffle=True, solver='lbfgs', tol=0.0001,\n",
       "              validation_fraction=0.1, verbose=False, warm_start=False)"
      ]
     },
     "execution_count": 5,
     "metadata": {},
     "output_type": "execute_result"
    }
   ],
   "source": [
    "y = np.where(y==10, 0, y) # handle the issue of data as 0 number is denoted as 10 so fix this to pass to model\n",
    "clf = MLPClassifier(solver='lbfgs', alpha=.9, hidden_layer_sizes=(9), random_state=1)\n",
    "clf.fit(X, y)"
   ]
  },
  {
   "cell_type": "markdown",
   "metadata": {},
   "source": [
    "## predict the 5000 images "
   ]
  },
  {
   "cell_type": "code",
   "execution_count": 6,
   "metadata": {},
   "outputs": [],
   "source": [
    "predict = clf.predict(X)"
   ]
  },
  {
   "cell_type": "code",
   "execution_count": 7,
   "metadata": {},
   "outputs": [
    {
     "name": "stdout",
     "output_type": "stream",
     "text": [
      "The shape of predicted vaues of our images (5000,)\n"
     ]
    }
   ],
   "source": [
    "print(\"The shape of predicted vaues of our images\", predict.shape)"
   ]
  },
  {
   "cell_type": "code",
   "execution_count": 8,
   "metadata": {},
   "outputs": [
    {
     "name": "stdout",
     "output_type": "stream",
     "text": [
      "Training Set f1-score: 0.9412\n"
     ]
    }
   ],
   "source": [
    "print ('Training Set f1-score:', f1_score(predict, y, average='micro'))"
   ]
  },
  {
   "cell_type": "markdown",
   "metadata": {},
   "source": [
    "## Testing image number 700 of predicted with our actuall class and display it"
   ]
  },
  {
   "cell_type": "code",
   "execution_count": 9,
   "metadata": {},
   "outputs": [
    {
     "data": {
      "text/plain": [
       "1"
      ]
     },
     "execution_count": 9,
     "metadata": {},
     "output_type": "execute_result"
    }
   ],
   "source": [
    "test = predict[700]\n",
    "test"
   ]
  },
  {
   "cell_type": "code",
   "execution_count": 10,
   "metadata": {},
   "outputs": [
    {
     "data": {
      "text/plain": [
       "<matplotlib.image.AxesImage at 0x7f916b6c0910>"
      ]
     },
     "execution_count": 10,
     "metadata": {},
     "output_type": "execute_result"
    },
    {
     "data": {
      "image/png": "[encoded data removed]",
      "text/plain": [
       "<Figure size 432x288 with 1 Axes>"
      ]
     },
     "metadata": {
      "needs_background": "light"
     },
     "output_type": "display_data"
    }
   ],
   "source": [
    "test = X[700] # seems to 8\n",
    "test = np.reshape(test, (20,20))\n",
    "plt.imshow(test) # seems to 1"
   ]
  },
  {
   "cell_type": "markdown",
   "metadata": {},
   "source": [
    "## You can try different neurons of hidden layer and see result of accuracy"
   ]
  },
  {
   "cell_type": "code",
   "execution_count": null,
   "metadata": {},
   "outputs": [],
   "source": []
  }
 ],
 "metadata": {
  "kernelspec": {
   "display_name": "Python 3",
   "language": "python",
   "name": "python3"
  },
  "language_info": {
   "codemirror_mode": {
    "name": "ipython",
    "version": 3
   },
   "file_extension": ".py",
   "mimetype": "text/x-python",
   "name": "python",
   "nbconvert_exporter": "python",
   "pygments_lexer": "ipython3",
   "version": "3.7.4"
  }
 },
 "nbformat": 4,
 "nbformat_minor": 2
}
